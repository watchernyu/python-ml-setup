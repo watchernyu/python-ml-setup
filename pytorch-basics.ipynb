{
 "cells": [
  {
   "cell_type": "code",
   "execution_count": 1,
   "metadata": {},
   "outputs": [],
   "source": [
    "import torch\n",
    "import numpy as np\n",
    "from torch import Tensor\n",
    "import torch.nn as nn\n",
    "import torch.nn.functional as F\n",
    "import matplotlib.pyplot as plt\n",
    "import torchvision\n",
    "%matplotlib inline"
   ]
  },
  {
   "cell_type": "markdown",
   "metadata": {},
   "source": [
    "## 1. initialize tensor, basic operations, convert to numpy\n"
   ]
  },
  {
   "cell_type": "code",
   "execution_count": 2,
   "metadata": {},
   "outputs": [],
   "source": [
    "x = torch.rand(5, 3)"
   ]
  },
  {
   "cell_type": "code",
   "execution_count": 3,
   "metadata": {},
   "outputs": [
    {
     "data": {
      "text/plain": [
       "tensor([[0.9902, 0.3784, 0.4563],\n",
       "        [0.8189, 0.5087, 0.2188],\n",
       "        [0.6178, 0.6991, 0.8038],\n",
       "        [0.6800, 0.9577, 0.7683],\n",
       "        [0.7091, 0.8719, 0.5952]])"
      ]
     },
     "execution_count": 3,
     "metadata": {},
     "output_type": "execute_result"
    }
   ],
   "source": [
    "x"
   ]
  },
  {
   "cell_type": "code",
   "execution_count": 4,
   "metadata": {},
   "outputs": [
    {
     "data": {
      "text/plain": [
       "tensor([[0, 0, 0],\n",
       "        [0, 0, 0],\n",
       "        [0, 0, 0],\n",
       "        [0, 0, 0],\n",
       "        [0, 0, 0]])"
      ]
     },
     "execution_count": 4,
     "metadata": {},
     "output_type": "execute_result"
    }
   ],
   "source": [
    "x.long()\n"
   ]
  },
  {
   "cell_type": "code",
   "execution_count": 5,
   "metadata": {},
   "outputs": [
    {
     "data": {
      "text/plain": [
       "torch.int64"
      ]
     },
     "execution_count": 5,
     "metadata": {},
     "output_type": "execute_result"
    }
   ],
   "source": [
    "x = x.long()\n",
    "x.dtype"
   ]
  },
  {
   "cell_type": "markdown",
   "metadata": {},
   "source": [
    "## 2. automatic differentiation"
   ]
  },
  {
   "cell_type": "code",
   "execution_count": 6,
   "metadata": {},
   "outputs": [],
   "source": [
    "x = Tensor([2])\n",
    "x.requires_grad = True\n",
    "loss = x**2\n",
    "loss.backward()"
   ]
  },
  {
   "cell_type": "code",
   "execution_count": 7,
   "metadata": {},
   "outputs": [
    {
     "data": {
      "text/plain": [
       "tensor([4.])"
      ]
     },
     "execution_count": 7,
     "metadata": {},
     "output_type": "execute_result"
    }
   ],
   "source": [
    "x.grad"
   ]
  },
  {
   "cell_type": "markdown",
   "metadata": {},
   "source": [
    "### 2.1 simple manual gradient descent"
   ]
  },
  {
   "cell_type": "code",
   "execution_count": 8,
   "metadata": {},
   "outputs": [
    {
     "data": {
      "image/png": "[encoded data removed]",
      "text/plain": [
       "<Figure size 432x288 with 1 Axes>"
      ]
     },
     "metadata": {
      "needs_background": "light"
     },
     "output_type": "display_data"
    },
    {
     "name": "stdout",
     "output_type": "stream",
     "text": [
      "tensor([0.2701], requires_grad=True)\n",
      "0.07296964526176453\n"
     ]
    }
   ],
   "source": [
    "x = Tensor([2])\n",
    "x.requires_grad = True\n",
    "alpha = 0.001 # is the learning rate\n",
    "n_updates = 1000\n",
    "x_axis_num_of_update = np.arange(n_updates)\n",
    "loss_values_through_training = np.zeros(n_updates)\n",
    "for i in range(n_updates): # the nubmer of updates\n",
    "    x.grad = None # set gradient to zero, so that they do not accumulate\n",
    "    loss = x**2 # compute the loss\n",
    "    loss.backward() # do backprop\n",
    "    # do gradient descent Note here we minus the gradient, instead of add to it\n",
    "    x.data -= alpha * x.grad.data \n",
    "    loss_values_through_training[i] = loss.item()\n",
    "    \n",
    "plt.plot(x_axis_num_of_update,loss_values_through_training)\n",
    "plt.show()\n",
    "print(x)\n",
    "loss = x**2 # compute the loss\n",
    "print(loss.item())"
   ]
  },
  {
   "cell_type": "code",
   "execution_count": 9,
   "metadata": {},
   "outputs": [
    {
     "data": {
      "image/png": "[encoded data removed]",
      "text/plain": [
       "<Figure size 432x288 with 1 Axes>"
      ]
     },
     "metadata": {
      "needs_background": "light"
     },
     "output_type": "display_data"
    }
   ],
   "source": [
    "def train(alpha):\n",
    "    x = Tensor([2])\n",
    "    x.requires_grad = True\n",
    "    n_updates = 1000\n",
    "    x_axis_num_of_update = np.arange(n_updates)\n",
    "    loss_values_through_training = np.zeros(n_updates)\n",
    "    for i in range(n_updates): # the nubmer of updates\n",
    "        x.grad = None # set gradient to zero, so that they do not accumulate\n",
    "        loss = x**2 # compute the loss\n",
    "        loss.backward() # do backprop\n",
    "        # do gradient descent Note here we minus the gradient, instead of add to it\n",
    "        x.data -= alpha * x.grad.data \n",
    "        loss_values_through_training[i] = loss.item()\n",
    "    return loss_values_through_training\n",
    "    \n",
    "for alpha in [0.1, 0.01, 0.001]:\n",
    "    values = train(alpha)\n",
    "    plt.plot(x_axis_num_of_update,values, label=alpha)\n",
    "plt.legend()\n",
    "plt.show()"
   ]
  },
  {
   "cell_type": "markdown",
   "metadata": {},
   "source": [
    "## 3. Neural net"
   ]
  },
  {
   "cell_type": "markdown",
   "metadata": {},
   "source": [
    "### 3.1 super simple linear model\n",
    "yhat = x1\\*w1 + x2\\*w2 + b  \n",
    "loss = (y-yhat)^2   "
   ]
  },
  {
   "cell_type": "code",
   "execution_count": 10,
   "metadata": {},
   "outputs": [],
   "source": [
    "X = Tensor([1,2]).reshape(-1, 2)\n",
    "y = Tensor([6])"
   ]
  },
  {
   "cell_type": "code",
   "execution_count": 11,
   "metadata": {},
   "outputs": [],
   "source": [
    "class Net1(nn.Module):\n",
    "    def __init__(self):\n",
    "        super(Net1, self).__init__()\n",
    "        # an affine operation: y = Wx + b\n",
    "        self.fc1 = nn.Linear(2, 1)  # 6*6 from image dimension\n",
    "    def forward(self, x):\n",
    "        # Max pooling over a (2, 2) window\n",
    "        x = self.fc1(x)\n",
    "        return x"
   ]
  },
  {
   "cell_type": "code",
   "execution_count": 12,
   "metadata": {},
   "outputs": [],
   "source": [
    "net1 = Net1()"
   ]
  },
  {
   "cell_type": "code",
   "execution_count": 13,
   "metadata": {},
   "outputs": [
    {
     "name": "stdout",
     "output_type": "stream",
     "text": [
      "torch.Size([1, 2]) torch.Size([1])\n"
     ]
    }
   ],
   "source": [
    "print(net1.fc1.weight.shape, net1.fc1.bias.shape)"
   ]
  },
  {
   "cell_type": "code",
   "execution_count": 14,
   "metadata": {},
   "outputs": [],
   "source": [
    "# set the weights and the bias for our little testing\n",
    "net1.fc1.weight.data[0,0] = 2\n",
    "net1.fc1.weight.data[0,1] = 3\n",
    "net1.fc1.bias.data[0] = 0"
   ]
  },
  {
   "cell_type": "code",
   "execution_count": 15,
   "metadata": {},
   "outputs": [
    {
     "data": {
      "text/plain": [
       "tensor([[8.]], grad_fn=<AddmmBackward>)"
      ]
     },
     "execution_count": 15,
     "metadata": {},
     "output_type": "execute_result"
    }
   ],
   "source": [
    "yhat = net1(X)\n",
    "yhat"
   ]
  },
  {
   "cell_type": "code",
   "execution_count": 16,
   "metadata": {},
   "outputs": [
    {
     "data": {
      "text/plain": [
       "tensor([[4.]], grad_fn=<DivBackward0>)"
      ]
     },
     "execution_count": 16,
     "metadata": {},
     "output_type": "execute_result"
    }
   ],
   "source": [
    "loss = (yhat - y)**2/1\n",
    "loss"
   ]
  },
  {
   "cell_type": "code",
   "execution_count": 17,
   "metadata": {},
   "outputs": [],
   "source": [
    "loss.backward()"
   ]
  },
  {
   "cell_type": "code",
   "execution_count": 18,
   "metadata": {},
   "outputs": [
    {
     "data": {
      "text/plain": [
       "(tensor([[1., 2.]]),\n",
       " tensor([6.]),\n",
       " tensor([[8.]], grad_fn=<AddmmBackward>),\n",
       " tensor([[2., 3.]]),\n",
       " tensor([0.]))"
      ]
     },
     "execution_count": 18,
     "metadata": {},
     "output_type": "execute_result"
    }
   ],
   "source": [
    "X, y, yhat, net1.fc1.weight.data, net1.fc1.bias.data"
   ]
  },
  {
   "cell_type": "markdown",
   "metadata": {},
   "source": [
    "What should the gradient be?   \n",
    "dloss/dw1 = dloss/dyhat \\* dyhat/dw1 = ?   \n",
    "dloss/dw2 = dloss/dyhat \\* dyhat/dw1 = ?   \n",
    "dloss/db = dloss/dyhat \\* dyhat/db = ?   "
   ]
  },
  {
   "cell_type": "code",
   "execution_count": 19,
   "metadata": {},
   "outputs": [],
   "source": [
    "X.grad"
   ]
  },
  {
   "cell_type": "code",
   "execution_count": 20,
   "metadata": {},
   "outputs": [
    {
     "data": {
      "text/plain": [
       "tensor([[4., 8.]])"
      ]
     },
     "execution_count": 20,
     "metadata": {},
     "output_type": "execute_result"
    }
   ],
   "source": [
    "net1.fc1.weight.grad"
   ]
  },
  {
   "cell_type": "code",
   "execution_count": 21,
   "metadata": {},
   "outputs": [
    {
     "data": {
      "text/plain": [
       "tensor([4.])"
      ]
     },
     "execution_count": 21,
     "metadata": {},
     "output_type": "execute_result"
    }
   ],
   "source": [
    "net1.fc1.bias.grad"
   ]
  },
  {
   "cell_type": "markdown",
   "metadata": {},
   "source": [
    "dloss/dw1 = dloss/dyhat \\* dyhat/dw1 = 2(2) \\* 1 = 4   \n",
    "dloss/dw2 = dloss/dyhat \\* dyhat/dw1 = 2(2) \\* 2 = 8   \n",
    "dloss/db = dloss/dyhat \\* dyhat/db = 2(2) \\* 1 = 4  "
   ]
  },
  {
   "cell_type": "code",
   "execution_count": 22,
   "metadata": {},
   "outputs": [
    {
     "data": {
      "image/png": "[encoded data removed]",
      "text/plain": [
       "<Figure size 432x288 with 1 Axes>"
      ]
     },
     "metadata": {
      "needs_background": "light"
     },
     "output_type": "display_data"
    }
   ],
   "source": [
    "def train_net1(alpha):\n",
    "    net1 = Net1()\n",
    "    # set the weights and the bias for our little testing\n",
    "    net1.fc1.weight.data[0,0] = 2\n",
    "    net1.fc1.weight.data[0,1] = 3\n",
    "    net1.fc1.bias.data[0] = 0\n",
    "    n_updates = 1000\n",
    "    x_axis_num_of_update = np.arange(n_updates)\n",
    "    loss_values_through_training = np.zeros(n_updates)\n",
    "    for i in range(n_updates): # the nubmer of updates\n",
    "        yhat = net1(X)\n",
    "        # compute loss\n",
    "        loss = (yhat - y)**2/1\n",
    "        # zero out the gradient\n",
    "        net1.fc1.weight.grad = None\n",
    "        net1.fc1.bias.bias = None\n",
    "        # backprop\n",
    "        loss.backward()\n",
    "        # do gradient descent\n",
    "        net1.fc1.weight.data -= alpha * net1.fc1.weight.grad\n",
    "        net1.fc1.bias.data -= alpha * net1.fc1.bias.grad\n",
    "        loss_values_through_training[i] = loss.item()\n",
    "    return x_axis_num_of_update, loss_values_through_training\n",
    "for alpha in [0.001, 0.01, 0.1]:\n",
    "    x_axis_num_of_update, values = train_net1(alpha)\n",
    "    plt.plot(x_axis_num_of_update,values, label=alpha)\n",
    "plt.legend()\n",
    "plt.show()\n",
    "    "
   ]
  },
  {
   "cell_type": "code",
   "execution_count": null,
   "metadata": {},
   "outputs": [],
   "source": []
  }
 ],
 "metadata": {
  "kernelspec": {
   "display_name": "Python 3",
   "language": "python",
   "name": "python3"
  },
  "language_info": {
   "codemirror_mode": {
    "name": "ipython",
    "version": 3
   },
   "file_extension": ".py",
   "mimetype": "text/x-python",
   "name": "python",
   "nbconvert_exporter": "python",
   "pygments_lexer": "ipython3",
   "version": "3.6.9"
  }
 },
 "nbformat": 4,
 "nbformat_minor": 4
}
